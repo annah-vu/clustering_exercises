{
 "cells": [
  {
   "cell_type": "code",
   "execution_count": 1,
   "id": "2d815306-f088-4bdb-95b2-624f069d629e",
   "metadata": {},
   "outputs": [],
   "source": [
    "#importing\n",
    "import warnings\n",
    "warnings.filterwarnings(\"ignore\")\n",
    "\n",
    "import pandas as pd\n",
    "import numpy as np\n",
    "\n",
    "import matplotlib.pyplot as plt\n",
    "from matplotlib import cm\n",
    "import seaborn as sns\n",
    "\n",
    "import acquire\n",
    "\n",
    "from sklearn.cluster import KMeans\n",
    "from pydataset import data\n",
    "\n",
    "from sklearn.preprocessing import MinMaxScaler\n",
    "import sklearn\n",
    "from sklearn.model_selection import train_test_split"
   ]
  },
  {
   "cell_type": "code",
   "execution_count": 2,
   "id": "ffa85817-41c7-4c8d-83f6-04734819dc81",
   "metadata": {},
   "outputs": [],
   "source": [
    "#load iris dataset\n",
    "iris_df = data('iris')"
   ]
  },
  {
   "cell_type": "code",
   "execution_count": 3,
   "id": "31e04838-31b6-4b3f-8306-108828525984",
   "metadata": {},
   "outputs": [],
   "source": [
    "#rename columns for ease of use\n",
    "iris_df = iris_df.rename(columns={\"Sepal.Length\": \"sepal_length\",\n",
    "                        \"Sepal.Width\": \"sepal_width\",\n",
    "                        \"Petal.Length\": \"petal_length\",\n",
    "                        \"Petal.Width\": \"petal_width\",\n",
    "                        \"Species\": \"species\"})"
   ]
  },
  {
   "cell_type": "code",
   "execution_count": 4,
   "id": "c36dc848-80a2-4915-9eab-2ed48df439b6",
   "metadata": {},
   "outputs": [],
   "source": [
    "#I might use these features later\n",
    "iris_df['sepal_area']= iris_df.sepal_length * iris_df.sepal_width\n",
    "iris_df['petal_area']= iris_df.petal_length * iris_df.petal_width"
   ]
  },
  {
   "cell_type": "code",
   "execution_count": 5,
   "id": "93b94e3b-d6ac-477d-b185-15afca16c935",
   "metadata": {},
   "outputs": [],
   "source": [
    "#split the data into train, validate, test\n",
    "train_validate, test = train_test_split(iris_df, test_size=.2, random_state=123)\n",
    "\n",
    "train, validate = train_test_split(train_validate, test_size=.3, random_state=123)"
   ]
  },
  {
   "cell_type": "code",
   "execution_count": 6,
   "id": "271dd1e7-3a60-4fae-948e-fe8f1b43c01a",
   "metadata": {},
   "outputs": [
    {
     "data": {
      "text/plain": [
       "Index(['sepal_length', 'sepal_width', 'petal_length', 'petal_width', 'species',\n",
       "       'sepal_area', 'petal_area'],\n",
       "      dtype='object')"
      ]
     },
     "execution_count": 6,
     "metadata": {},
     "output_type": "execute_result"
    }
   ],
   "source": [
    "train.columns"
   ]
  },
  {
   "cell_type": "code",
   "execution_count": 7,
   "id": "798c6f54-5764-4669-8f2e-a29fc285b111",
   "metadata": {},
   "outputs": [],
   "source": [
    "scaler = sklearn.preprocessing.StandardScaler()\n",
    "\n",
    "cols = ['sepal_length','sepal_width','petal_length','petal_width','sepal_area','petal_area']\n",
    "\n",
    "train_scaled = train.copy()\n",
    "validate_scaled = validate.copy()\n",
    "test_scaled = test.copy()\n",
    "\n",
    "train_scaled[cols] = scaler.fit_transform(train[cols])\n",
    "validate_scaled[cols] = scaler.fit_transform(validate[cols])\n",
    "test_scaled[cols] = scaler.fit_transform(test[cols])"
   ]
  },
  {
   "cell_type": "code",
   "execution_count": 8,
   "id": "3d666a3a-fe64-4b5a-ab18-d5ff71b5e8e6",
   "metadata": {},
   "outputs": [],
   "source": [
    "#select features\n",
    "X = train_scaled[['petal_width', 'sepal_width']]"
   ]
  },
  {
   "cell_type": "code",
   "execution_count": 9,
   "id": "fbb86979-9c42-4ecc-bf06-9258191e6643",
   "metadata": {},
   "outputs": [
    {
     "data": {
      "text/plain": [
       "KMeans(n_clusters=3)"
      ]
     },
     "execution_count": 9,
     "metadata": {},
     "output_type": "execute_result"
    }
   ],
   "source": [
    "#let's try 3 clusters\n",
    "kmeans = KMeans(n_clusters=3)\n",
    "kmeans.fit(X)"
   ]
  },
  {
   "cell_type": "code",
   "execution_count": 10,
   "id": "206bb3d8-c2d2-4ba6-aab6-41aedaf166c9",
   "metadata": {},
   "outputs": [
    {
     "data": {
      "text/html": [
       "<div>\n",
       "<style scoped>\n",
       "    .dataframe tbody tr th:only-of-type {\n",
       "        vertical-align: middle;\n",
       "    }\n",
       "\n",
       "    .dataframe tbody tr th {\n",
       "        vertical-align: top;\n",
       "    }\n",
       "\n",
       "    .dataframe thead th {\n",
       "        text-align: right;\n",
       "    }\n",
       "</style>\n",
       "<table border=\"1\" class=\"dataframe\">\n",
       "  <thead>\n",
       "    <tr style=\"text-align: right;\">\n",
       "      <th></th>\n",
       "      <th>sepal_length</th>\n",
       "      <th>sepal_width</th>\n",
       "      <th>petal_length</th>\n",
       "      <th>petal_width</th>\n",
       "      <th>species</th>\n",
       "      <th>sepal_area</th>\n",
       "      <th>petal_area</th>\n",
       "      <th>cluster</th>\n",
       "    </tr>\n",
       "  </thead>\n",
       "  <tbody>\n",
       "    <tr>\n",
       "      <th>49</th>\n",
       "      <td>-0.669991</td>\n",
       "      <td>1.577809</td>\n",
       "      <td>-1.348985</td>\n",
       "      <td>-1.389832</td>\n",
       "      <td>setosa</td>\n",
       "      <td>0.567251</td>\n",
       "      <td>-1.217276</td>\n",
       "      <td>0</td>\n",
       "    </tr>\n",
       "    <tr>\n",
       "      <th>120</th>\n",
       "      <td>0.195844</td>\n",
       "      <td>-1.947084</td>\n",
       "      <td>0.699577</td>\n",
       "      <td>0.395693</td>\n",
       "      <td>virginica</td>\n",
       "      <td>-1.315914</td>\n",
       "      <td>0.376628</td>\n",
       "      <td>2</td>\n",
       "    </tr>\n",
       "    <tr>\n",
       "      <th>30</th>\n",
       "      <td>-1.412135</td>\n",
       "      <td>0.402845</td>\n",
       "      <td>-1.290455</td>\n",
       "      <td>-1.389832</td>\n",
       "      <td>setosa</td>\n",
       "      <td>-0.775349</td>\n",
       "      <td>-1.212848</td>\n",
       "      <td>0</td>\n",
       "    </tr>\n",
       "    <tr>\n",
       "      <th>52</th>\n",
       "      <td>0.690606</td>\n",
       "      <td>0.402845</td>\n",
       "      <td>0.406925</td>\n",
       "      <td>0.395693</td>\n",
       "      <td>versicolor</td>\n",
       "      <td>0.822844</td>\n",
       "      <td>0.210597</td>\n",
       "      <td>1</td>\n",
       "    </tr>\n",
       "    <tr>\n",
       "      <th>115</th>\n",
       "      <td>-0.051538</td>\n",
       "      <td>-0.537127</td>\n",
       "      <td>0.758107</td>\n",
       "      <td>1.631826</td>\n",
       "      <td>virginica</td>\n",
       "      <td>-0.422806</td>\n",
       "      <td>1.425949</td>\n",
       "      <td>1</td>\n",
       "    </tr>\n",
       "  </tbody>\n",
       "</table>\n",
       "</div>"
      ],
      "text/plain": [
       "     sepal_length  sepal_width  petal_length  petal_width     species  \\\n",
       "49      -0.669991     1.577809     -1.348985    -1.389832      setosa   \n",
       "120      0.195844    -1.947084      0.699577     0.395693   virginica   \n",
       "30      -1.412135     0.402845     -1.290455    -1.389832      setosa   \n",
       "52       0.690606     0.402845      0.406925     0.395693  versicolor   \n",
       "115     -0.051538    -0.537127      0.758107     1.631826   virginica   \n",
       "\n",
       "     sepal_area  petal_area  cluster  \n",
       "49     0.567251   -1.217276        0  \n",
       "120   -1.315914    0.376628        2  \n",
       "30    -0.775349   -1.212848        0  \n",
       "52     0.822844    0.210597        1  \n",
       "115   -0.422806    1.425949        1  "
      ]
     },
     "execution_count": 10,
     "metadata": {},
     "output_type": "execute_result"
    }
   ],
   "source": [
    "#make a column with these predictions\n",
    "train_scaled['cluster'] = kmeans.predict(X)\n",
    "train_scaled.sample(5)"
   ]
  },
  {
   "cell_type": "code",
   "execution_count": 11,
   "id": "6e15fdbd-f08b-4d96-ac01-74fc8035d16e",
   "metadata": {},
   "outputs": [
    {
     "data": {
      "text/html": [
       "<div>\n",
       "<style scoped>\n",
       "    .dataframe tbody tr th:only-of-type {\n",
       "        vertical-align: middle;\n",
       "    }\n",
       "\n",
       "    .dataframe tbody tr th {\n",
       "        vertical-align: top;\n",
       "    }\n",
       "\n",
       "    .dataframe thead th {\n",
       "        text-align: right;\n",
       "    }\n",
       "</style>\n",
       "<table border=\"1\" class=\"dataframe\">\n",
       "  <thead>\n",
       "    <tr style=\"text-align: right;\">\n",
       "      <th></th>\n",
       "      <th>petal_width</th>\n",
       "      <th>sepal_width</th>\n",
       "    </tr>\n",
       "  </thead>\n",
       "  <tbody>\n",
       "    <tr>\n",
       "      <th>0</th>\n",
       "      <td>-1.307423</td>\n",
       "      <td>0.966828</td>\n",
       "    </tr>\n",
       "    <tr>\n",
       "      <th>1</th>\n",
       "      <td>0.914071</td>\n",
       "      <td>0.183013</td>\n",
       "    </tr>\n",
       "    <tr>\n",
       "      <th>2</th>\n",
       "      <td>0.155334</td>\n",
       "      <td>-1.065860</td>\n",
       "    </tr>\n",
       "  </tbody>\n",
       "</table>\n",
       "</div>"
      ],
      "text/plain": [
       "   petal_width  sepal_width\n",
       "0    -1.307423     0.966828\n",
       "1     0.914071     0.183013\n",
       "2     0.155334    -1.065860"
      ]
     },
     "execution_count": 11,
     "metadata": {},
     "output_type": "execute_result"
    }
   ],
   "source": [
    "#let's get the centroids\n",
    "centroids = pd.DataFrame(kmeans.cluster_centers_, columns=X.columns)\n",
    "centroids"
   ]
  },
  {
   "cell_type": "code",
   "execution_count": 12,
   "id": "3b061d67-f1f6-4f34-92e7-eca510be694d",
   "metadata": {},
   "outputs": [
    {
     "data": {
      "text/plain": [
       "Text(0.5, 1.0, 'Visualizing Cluster Centers')"
      ]
     },
     "execution_count": 12,
     "metadata": {},
     "output_type": "execute_result"
    },
    {
     "data": {
      "image/png": "[encoded data removed]",
      "text/plain": [
       "<Figure size 1008x648 with 1 Axes>"
      ]
     },
     "metadata": {
      "needs_background": "light"
     },
     "output_type": "display_data"
    }
   ],
   "source": [
    "plt.figure(figsize=(14, 9))\n",
    "\n",
    "for cluster, subset in train_scaled.groupby('cluster'):\n",
    "    plt.scatter(subset.sepal_width, subset.petal_width, label='cluster ' + str(cluster), alpha=.6)\n",
    "\n",
    "centroids.plot.scatter(y='petal_width', x='sepal_width', c='black', marker='x', s=1000, ax=plt.gca(), label='centroid')\n",
    "\n",
    "plt.legend()\n",
    "plt.xlabel('sepal_width')\n",
    "plt.ylabel('petal_width')\n",
    "plt.title('Visualizing Cluster Centers')"
   ]
  },
  {
   "cell_type": "code",
   "execution_count": 13,
   "id": "52237332-de33-4b03-8d03-9176a2745dfd",
   "metadata": {},
   "outputs": [
    {
     "data": {
      "image/png": "[encoded data removed]",
      "text/plain": [
       "<Figure size 648x432 with 1 Axes>"
      ]
     },
     "metadata": {},
     "output_type": "display_data"
    }
   ],
   "source": [
    "with plt.style.context('seaborn-whitegrid'):\n",
    "    plt.figure(figsize=(9, 6))\n",
    "    pd.Series({k: KMeans(k).fit(X).inertia_ for k in range(2, 12)}).plot(marker='x')\n",
    "    plt.xticks(range(2, 12))\n",
    "    plt.xlabel('k')\n",
    "    plt.ylabel('inertia')\n",
    "    plt.title('Change in inertia as k increases')"
   ]
  },
  {
   "cell_type": "code",
   "execution_count": 14,
   "id": "a93a67ad-6779-4219-af9a-e2262086b68c",
   "metadata": {},
   "outputs": [],
   "source": [
    "#elbow is at k=6?"
   ]
  },
  {
   "cell_type": "code",
   "execution_count": 15,
   "id": "59961b7b-aab6-485b-b904-0a5b01ccfefc",
   "metadata": {},
   "outputs": [
    {
     "data": {
      "image/png": "[encoded data removed]",
      "text/plain": [
       "<Figure size 936x936 with 4 Axes>"
      ]
     },
     "metadata": {
      "needs_background": "light"
     },
     "output_type": "display_data"
    }
   ],
   "source": [
    "fig, axs = plt.subplots(2, 2, figsize=(13, 13), sharex=True, sharey=True)\n",
    "\n",
    "for ax, k in zip(axs.ravel(), range(3, 7)):\n",
    "    clusters = KMeans(k).fit(X).predict(X)\n",
    "    ax.scatter(X.sepal_width, X.petal_width, c=clusters)\n",
    "    ax.set(title='k = {}'.format(k), xlabel='sepal length', ylabel='petal length')"
   ]
  },
  {
   "cell_type": "markdown",
   "id": "7dfc0325-0e42-417e-937e-22f517a8799c",
   "metadata": {},
   "source": [
    "<br>"
   ]
  },
  {
   "cell_type": "markdown",
   "id": "9d0f2701-2c4c-4d9c-814b-a85c61449862",
   "metadata": {},
   "source": [
    "Repeat the clustering with THREE different features"
   ]
  },
  {
   "cell_type": "code",
   "execution_count": 16,
   "id": "fe7fbb96-9fa2-4377-bb3d-20ce8372efaf",
   "metadata": {},
   "outputs": [
    {
     "data": {
      "text/plain": [
       "Index(['sepal_length', 'sepal_width', 'petal_length', 'petal_width', 'species',\n",
       "       'sepal_area', 'petal_area'],\n",
       "      dtype='object')"
      ]
     },
     "execution_count": 16,
     "metadata": {},
     "output_type": "execute_result"
    }
   ],
   "source": [
    "iris_df.columns"
   ]
  },
  {
   "cell_type": "code",
   "execution_count": 17,
   "id": "ec60eb97-bac6-40c7-96a0-46e4f50961af",
   "metadata": {},
   "outputs": [],
   "source": [
    "X = iris_df[['petal_width', 'sepal_width','petal_length']]"
   ]
  },
  {
   "cell_type": "code",
   "execution_count": 18,
   "id": "a186d012-60f5-4afb-aee8-d1cfd9634024",
   "metadata": {},
   "outputs": [
    {
     "data": {
      "text/plain": [
       "array([1, 1, 1, 1, 1, 1, 1, 1, 1, 1, 1, 1, 1, 1, 1, 1, 1, 1, 1, 1, 1, 1,\n",
       "       1, 1, 1, 1, 1, 1, 1, 1, 1, 1, 1, 1, 1, 1, 1, 1, 1, 1, 1, 1, 1, 1,\n",
       "       1, 1, 1, 1, 1, 1, 2, 2, 2, 2, 2, 2, 2, 2, 2, 2, 2, 2, 2, 2, 2, 2,\n",
       "       2, 2, 2, 2, 0, 2, 2, 2, 2, 2, 2, 0, 2, 2, 2, 2, 2, 0, 2, 2, 2, 2,\n",
       "       2, 2, 2, 2, 2, 2, 2, 2, 2, 2, 2, 2, 0, 0, 0, 0, 0, 0, 2, 0, 0, 0,\n",
       "       0, 0, 0, 0, 0, 0, 0, 0, 0, 2, 0, 0, 0, 0, 0, 0, 2, 0, 0, 0, 0, 0,\n",
       "       0, 0, 0, 0, 0, 0, 2, 0, 0, 0, 0, 0, 0, 0, 0, 0, 0, 0], dtype=int32)"
      ]
     },
     "execution_count": 18,
     "metadata": {},
     "output_type": "execute_result"
    }
   ],
   "source": [
    "#let's try 3 clusters\n",
    "kmeans = KMeans(n_clusters=3)\n",
    "kmeans.fit(X)\n",
    "\n",
    "kmeans.predict(X)"
   ]
  },
  {
   "cell_type": "code",
   "execution_count": 19,
   "id": "642ddbdc-ec6d-454d-92b3-c11e5024581d",
   "metadata": {},
   "outputs": [],
   "source": [
    "iris_df['cluster_2'] = kmeans.predict(X)"
   ]
  },
  {
   "cell_type": "code",
   "execution_count": 20,
   "id": "57d3aeb5-35d8-4ac8-82b4-9598095e61c0",
   "metadata": {},
   "outputs": [
    {
     "data": {
      "text/html": [
       "<div>\n",
       "<style scoped>\n",
       "    .dataframe tbody tr th:only-of-type {\n",
       "        vertical-align: middle;\n",
       "    }\n",
       "\n",
       "    .dataframe tbody tr th {\n",
       "        vertical-align: top;\n",
       "    }\n",
       "\n",
       "    .dataframe thead th {\n",
       "        text-align: right;\n",
       "    }\n",
       "</style>\n",
       "<table border=\"1\" class=\"dataframe\">\n",
       "  <thead>\n",
       "    <tr style=\"text-align: right;\">\n",
       "      <th></th>\n",
       "      <th>petal_width</th>\n",
       "      <th>sepal_width</th>\n",
       "      <th>petal_length</th>\n",
       "    </tr>\n",
       "  </thead>\n",
       "  <tbody>\n",
       "    <tr>\n",
       "      <th>0</th>\n",
       "      <td>2.032653</td>\n",
       "      <td>3.002041</td>\n",
       "      <td>5.579592</td>\n",
       "    </tr>\n",
       "    <tr>\n",
       "      <th>1</th>\n",
       "      <td>0.246000</td>\n",
       "      <td>3.428000</td>\n",
       "      <td>1.462000</td>\n",
       "    </tr>\n",
       "    <tr>\n",
       "      <th>2</th>\n",
       "      <td>1.333333</td>\n",
       "      <td>2.747059</td>\n",
       "      <td>4.258824</td>\n",
       "    </tr>\n",
       "  </tbody>\n",
       "</table>\n",
       "</div>"
      ],
      "text/plain": [
       "   petal_width  sepal_width  petal_length\n",
       "0     2.032653     3.002041      5.579592\n",
       "1     0.246000     3.428000      1.462000\n",
       "2     1.333333     2.747059      4.258824"
      ]
     },
     "execution_count": 20,
     "metadata": {},
     "output_type": "execute_result"
    }
   ],
   "source": [
    "centroids = pd.DataFrame(kmeans.cluster_centers_, columns=X.columns)\n",
    "centroids"
   ]
  },
  {
   "cell_type": "code",
   "execution_count": 21,
   "id": "b5d7fe77-e9a3-42bf-9da8-95dbfaa65732",
   "metadata": {},
   "outputs": [
    {
     "ename": "TypeError",
     "evalue": "scatter() got multiple values for argument 'x'",
     "output_type": "error",
     "traceback": [
      "\u001b[0;31m---------------------------------------------------------------------------\u001b[0m",
      "\u001b[0;31mTypeError\u001b[0m                                 Traceback (most recent call last)",
      "\u001b[0;32m<ipython-input-21-bfbb83e688d0>\u001b[0m in \u001b[0;36m<module>\u001b[0;34m\u001b[0m\n\u001b[0;32m----> 1\u001b[0;31m \u001b[0mfig1\u001b[0m \u001b[0;34m=\u001b[0m \u001b[0mplt\u001b[0m\u001b[0;34m.\u001b[0m\u001b[0mscatter\u001b[0m\u001b[0;34m(\u001b[0m\u001b[0miris_df\u001b[0m\u001b[0;34m,\u001b[0m \u001b[0mx\u001b[0m\u001b[0;34m=\u001b[0m\u001b[0;34m\"petal_width\"\u001b[0m\u001b[0;34m,\u001b[0m \u001b[0my\u001b[0m\u001b[0;34m=\u001b[0m\u001b[0;34m\"petal_length\"\u001b[0m\u001b[0;34m,\u001b[0m \u001b[0mhue\u001b[0m\u001b[0;34m=\u001b[0m\u001b[0;34m'sepal_width'\u001b[0m\u001b[0;34m)\u001b[0m\u001b[0;34m\u001b[0m\u001b[0;34m\u001b[0m\u001b[0m\n\u001b[0m",
      "\u001b[0;31mTypeError\u001b[0m: scatter() got multiple values for argument 'x'"
     ]
    }
   ],
   "source": [
    "fig1 = plt.scatter(iris_df, x=\"petal_width\", y=\"petal_length\", hue='sepal_width')"
   ]
  },
  {
   "cell_type": "code",
   "execution_count": null,
   "id": "c7b5145d-dccb-407c-a4d9-d16d8d617182",
   "metadata": {},
   "outputs": [],
   "source": [
    "###############"
   ]
  },
  {
   "cell_type": "code",
   "execution_count": null,
   "id": "b6b1c412-ef08-4794-9ef9-3c69618cf5fb",
   "metadata": {},
   "outputs": [],
   "source": [
    "X_3 = train_scaled[['petal_length', 'petal_width','petal_area']]"
   ]
  },
  {
   "cell_type": "code",
   "execution_count": null,
   "id": "08e4a088-9ef4-457c-b6af-97e7219257d7",
   "metadata": {},
   "outputs": [],
   "source": [
    "kmeans = KMeans(n_clusters=3)\n",
    "kmeans.fit(X_3)"
   ]
  },
  {
   "cell_type": "code",
   "execution_count": null,
   "id": "ca8b7583-0efe-4e7e-ae4d-5cfe714cb206",
   "metadata": {},
   "outputs": [],
   "source": [
    "train_scaled['cluster_3'] = kmeans.predict(X_3)\n",
    "train_scaled.sample(5)"
   ]
  },
  {
   "cell_type": "code",
   "execution_count": null,
   "id": "d4f8deae-93f8-4e51-9d5e-48be00258cad",
   "metadata": {},
   "outputs": [],
   "source": [
    "centroids = pd.DataFrame(kmeans.cluster_centers_, columns=X_3.columns)\n",
    "centroids"
   ]
  },
  {
   "cell_type": "code",
   "execution_count": null,
   "id": "9b1fa5e9-8a74-450f-863b-6ceb447b3e7b",
   "metadata": {},
   "outputs": [],
   "source": [
    "plt.figure(figsize=(14, 9))\n",
    "\n",
    "for cluster, subset in train_scaled.groupby('cluster_3'):\n",
    "    plt.scatter(subset.sepal_width, subset.petal_width, label='cluster ' + str(cluster), alpha=.6)\n",
    "\n",
    "centroids.plot.scatter(y='petal_width', x='sepal_width', c='black', marker='x', s=1000, ax=plt.gca(), label='centroid')\n",
    "\n",
    "plt.legend()\n",
    "plt.xlabel('sepal_width')\n",
    "plt.ylabel('petal_width')\n",
    "plt.title('Visualizing Cluster Centers')"
   ]
  },
  {
   "cell_type": "code",
   "execution_count": null,
   "id": "111e07a8-bf2a-4cc5-ac44-a11e99f50507",
   "metadata": {},
   "outputs": [],
   "source": []
  },
  {
   "cell_type": "markdown",
   "id": "f249a4d5-1e26-4b38-874d-10121d06a038",
   "metadata": {},
   "source": [
    "2.) Use the techniques discussed in this lesson, as well as the insights gained from the exploration exercise to perform clustering on the mall customers dataset. Be sure to visualize your results!"
   ]
  },
  {
   "cell_type": "code",
   "execution_count": null,
   "id": "11d09053-7ec1-4233-a6b4-418001b1f530",
   "metadata": {},
   "outputs": [],
   "source": [
    "mall_df = acquire.get_mallcustomer_data()"
   ]
  },
  {
   "cell_type": "code",
   "execution_count": null,
   "id": "dc8f00c7-66b2-4e61-8c09-4e245cc8ef5f",
   "metadata": {},
   "outputs": [],
   "source": [
    "mall_df.head()"
   ]
  },
  {
   "cell_type": "code",
   "execution_count": null,
   "id": "09b1dbd1-782a-4f91-8cbd-fa4776be9348",
   "metadata": {},
   "outputs": [],
   "source": [
    "mall_df['is_male']= mall_df.gender=='Male'\n",
    "mall_df.head()"
   ]
  },
  {
   "cell_type": "code",
   "execution_count": null,
   "id": "a294a226-2557-4b22-b27d-caea0e3a5379",
   "metadata": {},
   "outputs": [],
   "source": [
    "mall_df = mall_df.replace(to_replace =True,\n",
    "                 value =1)"
   ]
  },
  {
   "cell_type": "code",
   "execution_count": null,
   "id": "960e99ec-226f-4e77-836b-b00c20b0fe09",
   "metadata": {},
   "outputs": [],
   "source": [
    "mall_df = mall_df.replace(to_replace =False,\n",
    "                 value =0)"
   ]
  },
  {
   "cell_type": "code",
   "execution_count": null,
   "id": "0d90861e-12f6-4d2b-8b34-90fb1a6878e2",
   "metadata": {},
   "outputs": [],
   "source": [
    "mall_df.head()"
   ]
  },
  {
   "cell_type": "code",
   "execution_count": null,
   "id": "3c7fa818-bc8c-49bb-8f90-ce5559771fe3",
   "metadata": {},
   "outputs": [],
   "source": [
    "mall_df.drop(columns=['gender'])"
   ]
  },
  {
   "cell_type": "code",
   "execution_count": null,
   "id": "3dc02b8f-64d4-41d7-ae98-01093ee30392",
   "metadata": {},
   "outputs": [],
   "source": [
    "train_validate, test = train_test_split(mall_df, test_size=.2, random_state=123)\n",
    "\n",
    "train, validate = train_test_split(train_validate, test_size=.3, random_state=123)"
   ]
  },
  {
   "cell_type": "code",
   "execution_count": null,
   "id": "3a33124c-5a42-4022-b488-562f317697d7",
   "metadata": {},
   "outputs": [],
   "source": [
    "scaler = sklearn.preprocessing.StandardScaler()\n",
    "\n",
    "cols = ['age','annual_income','is_male']\n",
    "\n",
    "train_scaled = train.copy()\n",
    "validate_scaled = validate.copy()\n",
    "test_scaled = test.copy()\n",
    "\n",
    "train_scaled[cols] = scaler.fit_transform(train[cols])\n",
    "validate_scaled[cols] = scaler.fit_transform(validate[cols])\n",
    "test_scaled[cols] = scaler.fit_transform(test[cols])"
   ]
  },
  {
   "cell_type": "code",
   "execution_count": null,
   "id": "bd0b1280-14d8-4b04-a7a6-84331978b61a",
   "metadata": {},
   "outputs": [],
   "source": [
    "X = train_scaled[['age', 'annual_income']]\n",
    "\n",
    "with plt.style.context('seaborn-whitegrid'):\n",
    "    plt.figure(figsize=(9, 6))\n",
    "    pd.Series({k: KMeans(k).fit(X).inertia_ for k in range(2, 12)}).plot(marker='x')\n",
    "    plt.xticks(range(2, 12))\n",
    "    plt.xlabel('k')\n",
    "    plt.ylabel('inertia')\n",
    "    plt.title('Change in inertia as k increases')"
   ]
  },
  {
   "cell_type": "code",
   "execution_count": null,
   "id": "8edcd3b4-b08d-42bf-80cd-307abe5c06c5",
   "metadata": {},
   "outputs": [],
   "source": [
    "kmeans = KMeans(n_clusters=5)\n",
    "kmeans.fit(X)\n",
    "\n",
    "kmeans.predict(X)"
   ]
  },
  {
   "cell_type": "code",
   "execution_count": null,
   "id": "034d3a96-e56f-4bb8-9139-d5d5b2da45d1",
   "metadata": {},
   "outputs": [],
   "source": [
    "train_scaled['cluster'] = kmeans.predict(X)\n",
    "train_scaled.sample(5)"
   ]
  },
  {
   "cell_type": "code",
   "execution_count": null,
   "id": "f85715f0-19be-4eb7-8325-8978bbb55eb6",
   "metadata": {},
   "outputs": [],
   "source": [
    "centroids = pd.DataFrame(kmeans.cluster_centers_, columns=X.columns)\n",
    "centroids"
   ]
  },
  {
   "cell_type": "code",
   "execution_count": null,
   "id": "0cd818ef-93bd-4d15-9cb0-c390d3602e06",
   "metadata": {},
   "outputs": [],
   "source": [
    "plt.figure(figsize=(14, 9))\n",
    "\n",
    "for cluster, subset in train_scaled.groupby('cluster'):\n",
    "    plt.scatter(subset.age, subset.annual_income, label='cluster ' + str(cluster), alpha=.6)\n",
    "\n",
    "centroids.plot.scatter(y='annual_income', x='age', c='black', marker='x', s=1000, ax=plt.gca(), label='centroid')\n",
    "\n",
    "plt.legend()\n",
    "plt.xlabel('age')\n",
    "plt.ylabel('annual_income')\n",
    "plt.title('Visualizing Cluster Centers')"
   ]
  },
  {
   "cell_type": "code",
   "execution_count": null,
   "id": "34c26fbb-dc87-4440-a4b0-82e2eadf3562",
   "metadata": {},
   "outputs": [],
   "source": []
  },
  {
   "cell_type": "markdown",
   "id": "3ffacbc8-5ac9-4f2d-ba56-3ac51b173832",
   "metadata": {},
   "source": [
    "3.) How does scaling impact the results of clustering?\n"
   ]
  },
  {
   "cell_type": "code",
   "execution_count": null,
   "id": "d189ae9a-aad3-4bd6-964c-53702d34f8f2",
   "metadata": {},
   "outputs": [],
   "source": [
    "train.head()"
   ]
  },
  {
   "cell_type": "code",
   "execution_count": null,
   "id": "bd019720-6910-4aeb-9e71-e1c5c29c19df",
   "metadata": {},
   "outputs": [],
   "source": [
    "X = train[['age','annual_income']]"
   ]
  },
  {
   "cell_type": "code",
   "execution_count": null,
   "id": "80287304-5ec4-4301-bce3-9b4299f12917",
   "metadata": {},
   "outputs": [],
   "source": [
    "kmeans = KMeans(n_clusters=5)\n",
    "kmeans.fit(X)\n",
    "\n",
    "kmeans.predict(X)"
   ]
  },
  {
   "cell_type": "code",
   "execution_count": null,
   "id": "bf48b740-8c87-4f06-979a-ace0d020d342",
   "metadata": {},
   "outputs": [],
   "source": [
    "train['cluster'] = kmeans.predict(X)\n",
    "\n",
    "centroids = pd.DataFrame(kmeans.cluster_centers_, columns=X.columns)\n",
    "centroids"
   ]
  },
  {
   "cell_type": "code",
   "execution_count": null,
   "id": "8c80f2f8-c16c-4d9d-9183-70e299ad6ae1",
   "metadata": {},
   "outputs": [],
   "source": [
    "plt.figure(figsize=(14, 9))\n",
    "\n",
    "for cluster, subset in train.groupby('cluster'):\n",
    "    plt.scatter(subset.age, subset.annual_income, label='cluster ' + str(cluster), alpha=.6)\n",
    "\n",
    "centroids.plot.scatter(y='annual_income', x='age', c='black', marker='x', s=1000, ax=plt.gca(), label='centroid')\n",
    "\n",
    "plt.legend()\n",
    "plt.xlabel('age')\n",
    "plt.ylabel('annual_income')\n",
    "plt.title('Visualizing Cluster Centers')"
   ]
  },
  {
   "cell_type": "code",
   "execution_count": null,
   "id": "cd3fa650-edcf-4de8-a18a-50be923d8d8c",
   "metadata": {},
   "outputs": [],
   "source": [
    "#seems more jumbled than if the data were scaled. "
   ]
  }
 ],
 "metadata": {
  "kernelspec": {
   "display_name": "Python 3",
   "language": "python",
   "name": "python3"
  },
  "language_info": {
   "codemirror_mode": {
    "name": "ipython",
    "version": 3
   },
   "file_extension": ".py",
   "mimetype": "text/x-python",
   "name": "python",
   "nbconvert_exporter": "python",
   "pygments_lexer": "ipython3",
   "version": "3.8.5"
  }
 },
 "nbformat": 4,
 "nbformat_minor": 5
}
